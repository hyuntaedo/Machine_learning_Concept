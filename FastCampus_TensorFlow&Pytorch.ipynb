{
  "nbformat": 4,
  "nbformat_minor": 0,
  "metadata": {
    "colab": {
      "name": "FastCampus_TensorFlow&Pytorch.ipynb",
      "provenance": [],
      "collapsed_sections": [],
      "authorship_tag": "ABX9TyMNqkhtT+WVG5VbgO4hpFwH",
      "include_colab_link": true
    },
    "kernelspec": {
      "name": "python3",
      "display_name": "Python 3"
    },
    "language_info": {
      "name": "python"
    }
  },
  "cells": [
    {
      "cell_type": "markdown",
      "metadata": {
        "id": "view-in-github",
        "colab_type": "text"
      },
      "source": [
        "<a href=\"https://colab.research.google.com/github/hyuntaedo/Machine_learning_Concept/blob/main/FastCampus_TensorFlow%26Pytorch.ipynb\" target=\"_parent\"><img src=\"https://colab.research.google.com/assets/colab-badge.svg\" alt=\"Open In Colab\"/></a>"
      ]
    },
    {
      "cell_type": "markdown",
      "metadata": {
        "id": "xV_9RwdkR818"
      },
      "source": [
        "#<strong>내용</strong>"
      ]
    },
    {
      "cell_type": "markdown",
      "metadata": {
        "id": "wLmd51jaNY__"
      },
      "source": [
        "- 시각화\n",
        "- Framework 기초 사용법\n",
        "- 예제 데이터 불러오고 다루기\n",
        "- Layer 구현 및 파악 & 모델 설계\n",
        "- 인공지능 학습\n",
        "\n"
      ]
    },
    {
      "cell_type": "markdown",
      "metadata": {
        "id": "YabOLZuZRdzA"
      },
      "source": [
        "#<strong>TensorFlow</strong>\n",
        "- 1.x에 비해 정말 쉬워짐\n",
        "- Numpy Array 호환이 쉬움\n",
        "- TensorBoard, TFLite, TPU\n",
        "- 여전히 많은 사용자들이 이용\n"
      ]
    },
    {
      "cell_type": "markdown",
      "metadata": {
        "id": "DpyjJg-wRl5g"
      },
      "source": [
        "#<strong>PyTorch</strong>\n",
        "- Dynamic Graph & Define By Run\n",
        "- 쉽고 빠르며 파이써닉 하다\n",
        "- 어마어마한 성장률\n"
      ]
    },
    {
      "cell_type": "markdown",
      "metadata": {
        "id": "8pD1_YZ-R1cy"
      },
      "source": [
        "- 사용법\n"
      ]
    },
    {
      "cell_type": "code",
      "metadata": {
        "id": "CAWpToCPVx9W"
      },
      "source": [
        "import numpy as np\n",
        "import tensorflow as tf"
      ],
      "execution_count": 1,
      "outputs": []
    },
    {
      "cell_type": "markdown",
      "metadata": {
        "id": "QNE8Ej3aS3Na"
      },
      "source": [
        "##<strong>Tensor 생성</strong>\n",
        "- []\n",
        "- List 생성\n"
      ]
    },
    {
      "cell_type": "code",
      "metadata": {
        "colab": {
          "base_uri": "https://localhost:8080/"
        },
        "id": "gVavzuoKWOBN",
        "outputId": "c32e3b80-e3a1-4ec9-8fb7-787b61e0bbfb"
      },
      "source": [
        "[1,2,3]"
      ],
      "execution_count": 2,
      "outputs": [
        {
          "output_type": "execute_result",
          "data": {
            "text/plain": [
              "[1, 2, 3]"
            ]
          },
          "metadata": {
            "tags": []
          },
          "execution_count": 2
        }
      ]
    },
    {
      "cell_type": "code",
      "metadata": {
        "colab": {
          "base_uri": "https://localhost:8080/"
        },
        "id": "QQvR8n3GWakW",
        "outputId": "a7cebd45-c036-404d-b40f-e4c43504e6af"
      },
      "source": [
        "[[1,2,3],[4,5,6]]"
      ],
      "execution_count": 3,
      "outputs": [
        {
          "output_type": "execute_result",
          "data": {
            "text/plain": [
              "[[1, 2, 3], [4, 5, 6]]"
            ]
          },
          "metadata": {
            "tags": []
          },
          "execution_count": 3
        }
      ]
    },
    {
      "cell_type": "markdown",
      "metadata": {
        "id": "UxT2V0RQWdpt"
      },
      "source": [
        "##<strong>Array 생성</strong>\n",
        "- tuple이나 list 둘 다 np.array()로 씌워서 array를 만들 수 있음\n"
      ]
    },
    {
      "cell_type": "code",
      "metadata": {
        "id": "J7sw__AxWnA5"
      },
      "source": [
        "arr = np.array([1,2,3])"
      ],
      "execution_count": 4,
      "outputs": []
    },
    {
      "cell_type": "code",
      "metadata": {
        "colab": {
          "base_uri": "https://localhost:8080/"
        },
        "id": "OtGRp64FWpUD",
        "outputId": "560cffdb-d7b9-48a3-bc86-dd5c4d0811c9"
      },
      "source": [
        "arr.shape"
      ],
      "execution_count": 5,
      "outputs": [
        {
          "output_type": "execute_result",
          "data": {
            "text/plain": [
              "(3,)"
            ]
          },
          "metadata": {
            "tags": []
          },
          "execution_count": 5
        }
      ]
    },
    {
      "cell_type": "code",
      "metadata": {
        "id": "288Cp5gSWqJE"
      },
      "source": [
        "arr = np.array([[1,2,3],[4,5,6]])"
      ],
      "execution_count": 6,
      "outputs": []
    },
    {
      "cell_type": "code",
      "metadata": {
        "colab": {
          "base_uri": "https://localhost:8080/"
        },
        "id": "WQ7IxImHWstQ",
        "outputId": "816e65fe-4629-4cf2-af56-174e40ab53ee"
      },
      "source": [
        "arr.shape"
      ],
      "execution_count": 7,
      "outputs": [
        {
          "output_type": "execute_result",
          "data": {
            "text/plain": [
              "(2, 3)"
            ]
          },
          "metadata": {
            "tags": []
          },
          "execution_count": 7
        }
      ]
    },
    {
      "cell_type": "markdown",
      "metadata": {
        "id": "hdPYTx6VWtYn"
      },
      "source": [
        "###<strong>Tensor 생성</strong>\n",
        "- tf.constant()\n",
        "  - list -> Tensor"
      ]
    },
    {
      "cell_type": "code",
      "metadata": {
        "colab": {
          "base_uri": "https://localhost:8080/"
        },
        "id": "h64i6I3UZe2u",
        "outputId": "a66fb0b9-1592-4ae4-8b85-6549e136779a"
      },
      "source": [
        "tf.constant([1,2,3])"
      ],
      "execution_count": 8,
      "outputs": [
        {
          "output_type": "execute_result",
          "data": {
            "text/plain": [
              "<tf.Tensor: shape=(3,), dtype=int32, numpy=array([1, 2, 3], dtype=int32)>"
            ]
          },
          "metadata": {
            "tags": []
          },
          "execution_count": 8
        }
      ]
    },
    {
      "cell_type": "code",
      "metadata": {
        "colab": {
          "base_uri": "https://localhost:8080/"
        },
        "id": "SSYn51VCZgsF",
        "outputId": "7304dd69-94a1-4951-c425-8a4e47e7202b"
      },
      "source": [
        "tf.constant(((1,2,3),(1,2,3)))"
      ],
      "execution_count": 9,
      "outputs": [
        {
          "output_type": "execute_result",
          "data": {
            "text/plain": [
              "<tf.Tensor: shape=(2, 3), dtype=int32, numpy=\n",
              "array([[1, 2, 3],\n",
              "       [1, 2, 3]], dtype=int32)>"
            ]
          },
          "metadata": {
            "tags": []
          },
          "execution_count": 9
        }
      ]
    },
    {
      "cell_type": "markdown",
      "metadata": {
        "id": "28efydcYZuwt"
      },
      "source": [
        "- tf.constant()\n",
        "  - Array -> Tensor"
      ]
    },
    {
      "cell_type": "code",
      "metadata": {
        "colab": {
          "base_uri": "https://localhost:8080/"
        },
        "id": "uh1JiGqDZxY4",
        "outputId": "4637ce35-5fee-4cf9-88ff-42af347684db"
      },
      "source": [
        "arr = np.array([1,2,3])\n",
        "arr"
      ],
      "execution_count": 10,
      "outputs": [
        {
          "output_type": "execute_result",
          "data": {
            "text/plain": [
              "array([1, 2, 3])"
            ]
          },
          "metadata": {
            "tags": []
          },
          "execution_count": 10
        }
      ]
    },
    {
      "cell_type": "code",
      "metadata": {
        "colab": {
          "base_uri": "https://localhost:8080/"
        },
        "id": "tAojtyXnZ0Ah",
        "outputId": "efdb939a-5bc3-4fe3-b05b-e9269326a6ca"
      },
      "source": [
        "tensor = tf.constant(arr)\n",
        "tensor"
      ],
      "execution_count": 13,
      "outputs": [
        {
          "output_type": "execute_result",
          "data": {
            "text/plain": [
              "<tf.Tensor: shape=(3,), dtype=int64, numpy=array([1, 2, 3])>"
            ]
          },
          "metadata": {
            "tags": []
          },
          "execution_count": 13
        }
      ]
    },
    {
      "cell_type": "markdown",
      "metadata": {
        "id": "ghS0RuG6Zlrp"
      },
      "source": [
        "###<strong>Tensor에 담긴 정보 확인</strong>\n",
        "- shape 확인\n"
      ]
    },
    {
      "cell_type": "code",
      "metadata": {
        "colab": {
          "base_uri": "https://localhost:8080/"
        },
        "id": "RCad_PQ0ZsEY",
        "outputId": "a9db2127-897e-4999-9b12-4df56815fc9a"
      },
      "source": [
        "tensor.shape"
      ],
      "execution_count": 14,
      "outputs": [
        {
          "output_type": "execute_result",
          "data": {
            "text/plain": [
              "TensorShape([3])"
            ]
          },
          "metadata": {
            "tags": []
          },
          "execution_count": 14
        }
      ]
    },
    {
      "cell_type": "markdown",
      "metadata": {
        "id": "xqp2VMCsZ7yC"
      },
      "source": [
        "- Data Type확인\n",
        "  - 주의 : Tensor 생성 할 때도, data type을 정해주지 않기 때문에, data type에 대해 혼동이 올 수 있음\n",
        "  - Data Type에 따라, 모델의 무게나 성능 차이에도 영향을 줄 수 있음\n",
        "  "
      ]
    },
    {
      "cell_type": "code",
      "metadata": {
        "colab": {
          "base_uri": "https://localhost:8080/"
        },
        "id": "5hPtdP0raLGb",
        "outputId": "29d51042-1f6d-45ac-d919-a48461aea08c"
      },
      "source": [
        "tensor.dtype"
      ],
      "execution_count": 15,
      "outputs": [
        {
          "output_type": "execute_result",
          "data": {
            "text/plain": [
              "tf.int64"
            ]
          },
          "metadata": {
            "tags": []
          },
          "execution_count": 15
        }
      ]
    },
    {
      "cell_type": "markdown",
      "metadata": {
        "id": "6v_cHU8RZbkM"
      },
      "source": [
        "- Datatype정의\n"
      ]
    },
    {
      "cell_type": "code",
      "metadata": {
        "id": "clNyTHBykM6h"
      },
      "source": [
        "tensor = tf.constant([1,2,3],dtype=tf.float32)"
      ],
      "execution_count": 16,
      "outputs": []
    },
    {
      "cell_type": "markdown",
      "metadata": {
        "id": "c6DMAsSpkeqe"
      },
      "source": [
        "- data type변환\n",
        "  - Numpy에서 astype()을 주었듯이, TensorFlow에서는 tf.cast를 사용\n",
        "  "
      ]
    },
    {
      "cell_type": "code",
      "metadata": {
        "id": "cLg7L1XeS3Pc"
      },
      "source": [
        "arr = np.array([1,2,3],dtype=np.float32)"
      ],
      "execution_count": 18,
      "outputs": []
    },
    {
      "cell_type": "code",
      "metadata": {
        "colab": {
          "base_uri": "https://localhost:8080/"
        },
        "id": "5Q6Cai_3kxv4",
        "outputId": "ad895f84-6c96-4608-b8e2-dd14bd3df593"
      },
      "source": [
        "arr.astype(np.int8)"
      ],
      "execution_count": 26,
      "outputs": [
        {
          "output_type": "execute_result",
          "data": {
            "text/plain": [
              "array([1, 2, 3], dtype=int8)"
            ]
          },
          "metadata": {
            "tags": []
          },
          "execution_count": 26
        }
      ]
    },
    {
      "cell_type": "code",
      "metadata": {
        "colab": {
          "base_uri": "https://localhost:8080/"
        },
        "id": "1s51tzuOk3O9",
        "outputId": "26c4d778-30dd-4d0b-8099-08202281ce60"
      },
      "source": [
        "tensor"
      ],
      "execution_count": 20,
      "outputs": [
        {
          "output_type": "execute_result",
          "data": {
            "text/plain": [
              "<tf.Tensor: shape=(3,), dtype=float32, numpy=array([1., 2., 3.], dtype=float32)>"
            ]
          },
          "metadata": {
            "tags": []
          },
          "execution_count": 20
        }
      ]
    },
    {
      "cell_type": "code",
      "metadata": {
        "colab": {
          "base_uri": "https://localhost:8080/"
        },
        "id": "MCzLDgvRk33_",
        "outputId": "cc4a5f65-6dc1-4721-ff5e-19bf52134d07"
      },
      "source": [
        "tf.cast(tensor,dtype=tf.int8)"
      ],
      "execution_count": 25,
      "outputs": [
        {
          "output_type": "execute_result",
          "data": {
            "text/plain": [
              "<tf.Tensor: shape=(3,), dtype=int8, numpy=array([1, 2, 3], dtype=int8)>"
            ]
          },
          "metadata": {
            "tags": []
          },
          "execution_count": 25
        }
      ]
    },
    {
      "cell_type": "markdown",
      "metadata": {
        "id": "W7R23fGZk7Xb"
      },
      "source": [
        "- Tensor에서 Numpy 불러오기\n",
        "  - .numpy()"
      ]
    },
    {
      "cell_type": "code",
      "metadata": {
        "colab": {
          "base_uri": "https://localhost:8080/"
        },
        "id": "OImUBbs4lNR6",
        "outputId": "3ef46511-b260-4ab4-8ef3-9e3abfe0dc97"
      },
      "source": [
        "tensor.numpy()"
      ],
      "execution_count": 27,
      "outputs": [
        {
          "output_type": "execute_result",
          "data": {
            "text/plain": [
              "array([1., 2., 3.], dtype=float32)"
            ]
          },
          "metadata": {
            "tags": []
          },
          "execution_count": 27
        }
      ]
    },
    {
      "cell_type": "code",
      "metadata": {
        "colab": {
          "base_uri": "https://localhost:8080/"
        },
        "id": "dO9fIRn3pUvy",
        "outputId": "e2202beb-10d5-46d3-f528-63077bc5c6ae"
      },
      "source": [
        "np.array(tensor)"
      ],
      "execution_count": 28,
      "outputs": [
        {
          "output_type": "execute_result",
          "data": {
            "text/plain": [
              "array([1., 2., 3.], dtype=float32)"
            ]
          },
          "metadata": {
            "tags": []
          },
          "execution_count": 28
        }
      ]
    },
    {
      "cell_type": "code",
      "metadata": {
        "colab": {
          "base_uri": "https://localhost:8080/"
        },
        "id": "R8-TAwRSpVpZ",
        "outputId": "5732efe5-bf4c-4f63-f7c0-3f6be9980dc2"
      },
      "source": [
        "type(tensor.numpy())"
      ],
      "execution_count": 29,
      "outputs": [
        {
          "output_type": "execute_result",
          "data": {
            "text/plain": [
              "numpy.ndarray"
            ]
          },
          "metadata": {
            "tags": []
          },
          "execution_count": 29
        }
      ]
    },
    {
      "cell_type": "code",
      "metadata": {
        "colab": {
          "base_uri": "https://localhost:8080/"
        },
        "id": "kpjvtaqUpXzi",
        "outputId": "9bbf1fb1-4248-4186-81d8-5591ed3a9899"
      },
      "source": [
        "type(tensor)"
      ],
      "execution_count": 30,
      "outputs": [
        {
          "output_type": "execute_result",
          "data": {
            "text/plain": [
              "tensorflow.python.framework.ops.EagerTensor"
            ]
          },
          "metadata": {
            "tags": []
          },
          "execution_count": 30
        }
      ]
    },
    {
      "cell_type": "markdown",
      "metadata": {
        "id": "mWUv25WPpZSR"
      },
      "source": [
        "##<strong>난수생성</strong>\n",
        "![image.png](data:image/png;base64,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)"
      ]
    },
    {
      "cell_type": "markdown",
      "metadata": {
        "id": "qrK3NXRKpx4j"
      },
      "source": [
        "- Normal Distribution은 중심극한 이론에 의한 연속적인 모양\n",
        "- Uniform Distribution은 중심극한 이론과는 무관하며, 불연속적이며 일정한 분포\n",
        "\n",
        "- numpy에서는 Normal Distribution을 기본적으로 생성\n",
        "  - np.random.randn()\n"
      ]
    },
    {
      "cell_type": "code",
      "metadata": {
        "colab": {
          "base_uri": "https://localhost:8080/"
        },
        "id": "-rRMrhFNqAIJ",
        "outputId": "a0f1603b-0315-46a5-9818-79e8df107cc5"
      },
      "source": [
        "np.random.randn(9)"
      ],
      "execution_count": 31,
      "outputs": [
        {
          "output_type": "execute_result",
          "data": {
            "text/plain": [
              "array([ 0.21609889,  1.64572648, -1.532503  ,  0.31441722,  0.37518619,\n",
              "        0.45204217, -0.95969511,  0.43107297,  1.32532288])"
            ]
          },
          "metadata": {
            "tags": []
          },
          "execution_count": 31
        }
      ]
    },
    {
      "cell_type": "markdown",
      "metadata": {
        "id": "M9i5ozXOS3Rl"
      },
      "source": [
        "- tf.random.normal\n",
        "  - TensorFlow에서 Normal Distribution"
      ]
    },
    {
      "cell_type": "code",
      "metadata": {
        "colab": {
          "base_uri": "https://localhost:8080/"
        },
        "id": "rw1RKclSS3Tn",
        "outputId": "f56e847c-5ced-49e6-8ec4-404ecccde6e8"
      },
      "source": [
        "tf.random.normal([3,3])"
      ],
      "execution_count": 33,
      "outputs": [
        {
          "output_type": "execute_result",
          "data": {
            "text/plain": [
              "<tf.Tensor: shape=(3, 3), dtype=float32, numpy=\n",
              "array([[-0.8212865 ,  1.760022  , -0.81420004],\n",
              "       [ 0.03060546, -0.80980533, -0.9678403 ],\n",
              "       [-1.2289655 ,  0.7826699 , -1.0756024 ]], dtype=float32)>"
            ]
          },
          "metadata": {
            "tags": []
          },
          "execution_count": 33
        }
      ]
    },
    {
      "cell_type": "markdown",
      "metadata": {
        "id": "7cIg-RN0qhFy"
      },
      "source": [
        "- tf.random.uniform\n",
        "  - TensorFlow에서 Uniform Distribution\n",
        "  "
      ]
    },
    {
      "cell_type": "code",
      "metadata": {
        "colab": {
          "base_uri": "https://localhost:8080/"
        },
        "id": "JCCbrXmoqn9D",
        "outputId": "779f89f8-a2ab-4c62-c851-b252258f9acc"
      },
      "source": [
        "tf.random.uniform([4,4])"
      ],
      "execution_count": 34,
      "outputs": [
        {
          "output_type": "execute_result",
          "data": {
            "text/plain": [
              "<tf.Tensor: shape=(4, 4), dtype=float32, numpy=\n",
              "array([[0.09824073, 0.84020555, 0.40041208, 0.05018485],\n",
              "       [0.90709555, 0.44242907, 0.98917794, 0.33763885],\n",
              "       [0.6244831 , 0.09503472, 0.9651669 , 0.7805455 ],\n",
              "       [0.03644288, 0.9906539 , 0.50162435, 0.06850088]], dtype=float32)>"
            ]
          },
          "metadata": {
            "tags": []
          },
          "execution_count": 34
        }
      ]
    },
    {
      "cell_type": "code",
      "metadata": {
        "id": "4-atrnPUqq1Y"
      },
      "source": [
        ""
      ],
      "execution_count": null,
      "outputs": []
    },
    {
      "cell_type": "code",
      "metadata": {
        "id": "jeWfVMx3qeVm"
      },
      "source": [
        ""
      ],
      "execution_count": 31,
      "outputs": []
    },
    {
      "cell_type": "code",
      "metadata": {
        "id": "pUqUmQlLqeX0"
      },
      "source": [
        ""
      ],
      "execution_count": 31,
      "outputs": []
    },
    {
      "cell_type": "code",
      "metadata": {
        "id": "trdRgtHdqeZ3"
      },
      "source": [
        ""
      ],
      "execution_count": null,
      "outputs": []
    }
  ]
}