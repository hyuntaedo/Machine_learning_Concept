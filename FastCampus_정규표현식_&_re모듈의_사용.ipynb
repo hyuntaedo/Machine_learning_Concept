{
  "nbformat": 4,
  "nbformat_minor": 0,
  "metadata": {
    "colab": {
      "name": "FastCampus_정규표현식 & re모듈의 사용.ipynb",
      "provenance": [],
      "collapsed_sections": [],
      "authorship_tag": "ABX9TyO66kMLBDAjltf3gTEJyQ2d",
      "include_colab_link": true
    },
    "kernelspec": {
      "name": "python3",
      "display_name": "Python 3"
    },
    "language_info": {
      "name": "python"
    }
  },
  "cells": [
    {
      "cell_type": "markdown",
      "metadata": {
        "id": "view-in-github",
        "colab_type": "text"
      },
      "source": [
        "<a href=\"https://colab.research.google.com/github/hyuntaedo/Machine_learning_Concept/blob/main/FastCampus_%EC%A0%95%EA%B7%9C%ED%91%9C%ED%98%84%EC%8B%9D_%26_re%EB%AA%A8%EB%93%88%EC%9D%98_%EC%82%AC%EC%9A%A9.ipynb\" target=\"_parent\"><img src=\"https://colab.research.google.com/assets/colab-badge.svg\" alt=\"Open In Colab\"/></a>"
      ]
    },
    {
      "cell_type": "markdown",
      "metadata": {
        "id": "HPdyc5EnYWqi"
      },
      "source": [
        "- 정규표현식\n",
        " - regular expression\n",
        " - 특정한 패턴과 일치하는 문자열을 '검색', '치환', '제거'하는 기능을 지원\n",
        " - 정규표현식의 도움없이 패턴을 찾는 작업(Rule 기반)은 불완전하거나, 작업의 cost가 높음\n",
        " - e.g) 이메일 형식 판별, 전화번호 형식 판별, 숫자로만 이루어진 문자열 등...\n",
        "\n",
        " - <strong>raw string</strong>\n",
        "   - 문자열 앞에 r이 붙으면 문자열이 구성된 그대로 문자열로 변환\n",
        "   "
      ]
    },
    {
      "cell_type": "code",
      "metadata": {
        "colab": {
          "base_uri": "https://localhost:8080/"
        },
        "id": "jZ1lVaDDikUX",
        "outputId": "264b36e4-eec8-490c-b675-3b5c3bab8b68"
      },
      "source": [
        "import re\n",
        "\n",
        "a = 'abcdef\\n' # escape 문자열\n",
        "print(a)\n",
        "b = r'abcdef\\n' #그대로 다 들어감\n",
        "print(b)"
      ],
      "execution_count": null,
      "outputs": [
        {
          "output_type": "stream",
          "text": [
            "abcdef\n",
            "\n",
            "abcdef\\n\n"
          ],
          "name": "stdout"
        }
      ]
    },
    {
      "cell_type": "markdown",
      "metadata": {
        "id": "yC-50MWijWjw"
      },
      "source": [
        "###<strong>기본 패턴</strong>\n",
        " - a,X,9 등등 문자 하나하나의 character들은 정확히 해당 문자와 일치\n",
        "   - e.g) 패턴 test는 test문자열과 일치\n",
        "   - 대소문자의 경우 기본적으로 구별하나, 구별하지 않도록 설정 가능\n",
        " - 몇몇 문자들에 대해서는 예외가 존재하는데 이들은 특별한 의미로 사용 됨\n",
        "   - .^$+?{}[]\\|()"
      ]
    },
    {
      "cell_type": "markdown",
      "metadata": {
        "id": "w4sSnG6Z1ZZV"
      },
      "source": [
        "### <string>search method</string>\n",
        " - 첫번째로 패턴을 찾으면 match객체를 반환\n",
        " - 패턴을 찾지 못하면 None반환\n",
        " "
      ]
    },
    {
      "cell_type": "code",
      "metadata": {
        "colab": {
          "base_uri": "https://localhost:8080/"
        },
        "id": "I2mfCnZE13El",
        "outputId": "5907e4a8-582b-4820-c4f2-ca9f39ea0013"
      },
      "source": [
        "import re\n",
        "m = re.search(r'abc','123abcdef')\n",
        "type(m)\n",
        "print(m.start()) # 시작위치\n",
        "print(m.end()) # 끝나는 위치\n",
        "print(m.group()) # 일치하는 값(패턴을 가져옴)"
      ],
      "execution_count": null,
      "outputs": [
        {
          "output_type": "stream",
          "text": [
            "3\n",
            "6\n",
            "abc\n"
          ],
          "name": "stdout"
        }
      ]
    },
    {
      "cell_type": "code",
      "metadata": {
        "id": "GKccBmdy2idu"
      },
      "source": [
        "import re\n",
        "m = re.search(r'abc','123abdef')\n",
        "m"
      ],
      "execution_count": null,
      "outputs": []
    },
    {
      "cell_type": "code",
      "metadata": {
        "id": "7-NPcUE2rS3R",
        "colab": {
          "base_uri": "https://localhost:8080/"
        },
        "outputId": "7c6e2521-9ae1-4bb8-d69d-ae8288e5fc6a"
      },
      "source": [
        "m = re.search(r'\\d\\d\\d\\w','112abcdef119') # 숫자두개가 나란히 있는게 있는가? 검색\n",
        "m # 가장 먼저있는 숫자를 찾음, # \\w는 문자를 찾음"
      ],
      "execution_count": null,
      "outputs": [
        {
          "output_type": "execute_result",
          "data": {
            "text/plain": [
              "<re.Match object; span=(0, 4), match='112a'>"
            ]
          },
          "metadata": {
            "tags": []
          },
          "execution_count": 10
        }
      ]
    },
    {
      "cell_type": "code",
      "metadata": {
        "id": "BOxqdSEj1uhy",
        "colab": {
          "base_uri": "https://localhost:8080/"
        },
        "outputId": "7e79d30b-fd5a-46ae-878b-7db116619700"
      },
      "source": [
        "m = re.search(r'..\\w\\w','@#$ABCDabcd')\n",
        "m"
      ],
      "execution_count": null,
      "outputs": [
        {
          "output_type": "execute_result",
          "data": {
            "text/plain": [
              "<re.Match object; span=(1, 5), match='#$AB'>"
            ]
          },
          "metadata": {
            "tags": []
          },
          "execution_count": 13
        }
      ]
    },
    {
      "cell_type": "markdown",
      "metadata": {
        "id": "RDJVTxac1ujw"
      },
      "source": [
        "### <string>metacharacters (메타캐릭터)</string>\n",
        "- [] 내부의 메타캐릭터는 캐릭터 자체를 나타냄\n",
        "- [abck] -> a or b or c or k\n",
        "- [abc.^] -> a or b or c or . or ^\n",
        "- [a-d] - 와 사용되면 범위에 속하는 문자중 하나\n",
        "- [a-z] 모든 소문자\n",
        "- [A-Z] 모든 대문자\n",
        "- [a-zA-Z0-9] 모든 알파벳 숫자 문자\n",
        "- [^0-9] 해당 문자 패턴이 아닌것을 의미"
      ]
    },
    {
      "cell_type": "code",
      "metadata": {
        "colab": {
          "base_uri": "https://localhost:8080/"
        },
        "id": "US3Wqfq8LS1-",
        "outputId": "94d95df5-5768-49c0-c97e-f4d939287d6c"
      },
      "source": [
        "m = re.search(r'[cbm]at','cat')\n",
        "n = re.search(r'[aat]cf','mte')\n",
        "h = re.search(r'[0-4]','7haha')\n",
        "k = re.search(r'[abc.^]aron','daron')\n",
        "l = re.search(r'[^abc]aron','0aron') # abc만 아니면됨\n",
        "print(m)\n",
        "print(m)\n",
        "print(h)\n",
        "print(k)\n",
        "print(l)"
      ],
      "execution_count": null,
      "outputs": [
        {
          "output_type": "stream",
          "text": [
            "<re.Match object; span=(0, 3), match='cat'>\n",
            "<re.Match object; span=(0, 3), match='cat'>\n",
            "None\n",
            "None\n",
            "<re.Match object; span=(0, 5), match='0aron'>\n"
          ],
          "name": "stdout"
        }
      ]
    },
    {
      "cell_type": "markdown",
      "metadata": {
        "id": "RtP1PWdxLgq1"
      },
      "source": [
        "- \\d는 숫자를 의미[0-9]\n",
        "- \\D는 [^0-9]를 의미\n",
        "- \\s는 공백문자를 의미\n",
        "- \\S는 공백이 아닌 문자를 의미\n",
        "- \\w는 알파벳 대소문자, 숫자를 의미\n",
        "- \\W는 알파벳 대소문자, 숫자과 아닌것을 의미"
      ]
    },
    {
      "cell_type": "code",
      "metadata": {
        "colab": {
          "base_uri": "https://localhost:8080/"
        },
        "id": "TT-ZZUmLUizZ",
        "outputId": "1e19599c-3910-416b-8d61-e9de9ab29c99"
      },
      "source": [
        "m = re.search(r'\\sand','apple and banana')\n",
        "M = re.search(r'\\Sand','apple and banana')\n",
        "print(m)\n",
        "print(M)"
      ],
      "execution_count": null,
      "outputs": [
        {
          "output_type": "stream",
          "text": [
            "<re.Match object; span=(5, 9), match=' and'>\n",
            "None\n"
          ],
          "name": "stdout"
        }
      ]
    },
    {
      "cell_type": "code",
      "metadata": {
        "id": "N3jtAeQD1ul9",
        "colab": {
          "base_uri": "https://localhost:8080/"
        },
        "outputId": "f475b99c-6fb6-420b-cccb-ef25b000b839"
      },
      "source": [
        "Point = re.search(r'.and','pand')\n",
        "point = re.search(r'\\.and','.and')\n",
        "print(Point)\n",
        "print(point)"
      ],
      "execution_count": null,
      "outputs": [
        {
          "output_type": "stream",
          "text": [
            "<re.Match object; span=(0, 4), match='pand'>\n",
            "<re.Match object; span=(0, 4), match='.and'>\n"
          ],
          "name": "stdout"
        }
      ]
    },
    {
      "cell_type": "code",
      "metadata": {
        "id": "NFUjIfpvERdY",
        "colab": {
          "base_uri": "https://localhost:8080/"
        },
        "outputId": "f111ab03-a956-40fb-a3d2-b9b4cc2f2c1d"
      },
      "source": [
        "re.search(r'p.g','pig') # . 은 모든 문자를 검색 가능"
      ],
      "execution_count": null,
      "outputs": [
        {
          "output_type": "execute_result",
          "data": {
            "text/plain": [
              "<re.Match object; span=(0, 3), match='pig'>"
            ]
          },
          "metadata": {
            "tags": []
          },
          "execution_count": 41
        }
      ]
    },
    {
      "cell_type": "markdown",
      "metadata": {
        "id": "PMt646wsVSwK"
      },
      "source": [
        "### <string>반복패턴</string>\n",
        "- 패턴뒤에 일치하는 *,+,?는 반복적으로 패턴이 존재하는지 검사\n",
        " - '+' -> 1번이상의 패턴이 발생\n",
        " - '*' -> 0번이상의 패턴이 발생\n",
        " - '?' -> 0 혹은 1번의 패턴이 발생\n",
        "- 반복을 패턴의 경우 greedy하게 검색, 즉 가능한 많은 부분이 매칭되도록 함 "
      ]
    },
    {
      "cell_type": "code",
      "metadata": {
        "colab": {
          "base_uri": "https://localhost:8080/"
        },
        "id": "YDfFELBMVqYR",
        "outputId": "77c4beb6-3944-41e8-e937-6be363b93e0c"
      },
      "source": [
        "re.search(r'a[bcd]*b','abcbdccb')"
      ],
      "execution_count": null,
      "outputs": [
        {
          "output_type": "execute_result",
          "data": {
            "text/plain": [
              "<re.Match object; span=(0, 8), match='abcbdccb'>"
            ]
          },
          "metadata": {
            "tags": []
          },
          "execution_count": 43
        }
      ]
    },
    {
      "cell_type": "code",
      "metadata": {
        "colab": {
          "base_uri": "https://localhost:8080/"
        },
        "id": "sHRUH3PDa-oH",
        "outputId": "b2a2a791-c2aa-41d7-b67f-86e48544906a"
      },
      "source": [
        "re.search(r'b\\w+a','banana')"
      ],
      "execution_count": null,
      "outputs": [
        {
          "output_type": "execute_result",
          "data": {
            "text/plain": [
              "<re.Match object; span=(0, 6), match='banana'>"
            ]
          },
          "metadata": {
            "tags": []
          },
          "execution_count": 44
        }
      ]
    },
    {
      "cell_type": "code",
      "metadata": {
        "colab": {
          "base_uri": "https://localhost:8080/"
        },
        "id": "SCvc_6x3a-qf",
        "outputId": "b4f5945c-1b05-423e-c15f-c1b1d76c6f9a"
      },
      "source": [
        "re.search(r'i+','piiggiii')"
      ],
      "execution_count": null,
      "outputs": [
        {
          "output_type": "execute_result",
          "data": {
            "text/plain": [
              "<re.Match object; span=(1, 3), match='ii'>"
            ]
          },
          "metadata": {
            "tags": []
          },
          "execution_count": 46
        }
      ]
    },
    {
      "cell_type": "code",
      "metadata": {
        "colab": {
          "base_uri": "https://localhost:8080/"
        },
        "id": "YXt-bFyUa-ta",
        "outputId": "e3260f03-b966-424a-b172-328346882071"
      },
      "source": [
        "m = re.search(r'pi*g','pg')\n",
        "n = re.search(r'pi+g','pg')\n",
        "print(m)\n",
        "print(n)"
      ],
      "execution_count": null,
      "outputs": [
        {
          "output_type": "stream",
          "text": [
            "<re.Match object; span=(0, 2), match='pg'>\n",
            "None\n"
          ],
          "name": "stdout"
        }
      ]
    },
    {
      "cell_type": "code",
      "metadata": {
        "id": "Dly92z2da-wM"
      },
      "source": [
        ""
      ],
      "execution_count": null,
      "outputs": []
    },
    {
      "cell_type": "code",
      "metadata": {
        "id": "KVzRAdHna-yw"
      },
      "source": [
        ""
      ],
      "execution_count": null,
      "outputs": []
    },
    {
      "cell_type": "code",
      "metadata": {
        "id": "C5Fa8FDvERan"
      },
      "source": [
        ""
      ],
      "execution_count": null,
      "outputs": []
    }
  ]
}