{
  "nbformat": 4,
  "nbformat_minor": 0,
  "metadata": {
    "colab": {
      "name": "FastCampus_MNIST.ipynb",
      "provenance": [],
      "collapsed_sections": [],
      "authorship_tag": "ABX9TyMyNy68ZoGOomX024D8oL1R",
      "include_colab_link": true
    },
    "kernelspec": {
      "name": "python3",
      "display_name": "Python 3"
    },
    "language_info": {
      "name": "python"
    }
  },
  "cells": [
    {
      "cell_type": "markdown",
      "metadata": {
        "id": "view-in-github",
        "colab_type": "text"
      },
      "source": [
        "<a href=\"https://colab.research.google.com/github/hyuntaedo/Machine_learning_Concept/blob/main/FastCampus_MNIST.ipynb\" target=\"_parent\"><img src=\"https://colab.research.google.com/assets/colab-badge.svg\" alt=\"Open In Colab\"/></a>"
      ]
    },
    {
      "cell_type": "markdown",
      "metadata": {
        "id": "Y47o0akBvVNC"
      },
      "source": [
        "#<strong>Data Preprocess (MNIST)</strong>\n"
      ]
    },
    {
      "cell_type": "code",
      "metadata": {
        "id": "rFv5b863wehd"
      },
      "source": [
        "import numpy as np\n",
        "import matplotlib.pyplot as plt\n",
        "import tensorflow as tf"
      ],
      "execution_count": 1,
      "outputs": []
    },
    {
      "cell_type": "markdown",
      "metadata": {
        "id": "tUwSjkgUwfBl"
      },
      "source": [
        "##<strong>데이터 불러오기</strong>\n",
        "- TensorFlow에서 제공해주는 데이터셋(MNIST)예제 불러오기\n"
      ]
    },
    {
      "cell_type": "code",
      "metadata": {
        "id": "jmhcO15Swm-y"
      },
      "source": [
        "from tensorflow.keras import datasets"
      ],
      "execution_count": 2,
      "outputs": []
    },
    {
      "cell_type": "markdown",
      "metadata": {
        "id": "OTINoC3Cwn8A"
      },
      "source": [
        "- 데이터 shape확인하기\n"
      ]
    },
    {
      "cell_type": "code",
      "metadata": {
        "id": "0nm_Kzb7wpy8"
      },
      "source": [
        "mnist = datasets.mnist"
      ],
      "execution_count": 3,
      "outputs": []
    },
    {
      "cell_type": "code",
      "metadata": {
        "colab": {
          "base_uri": "https://localhost:8080/"
        },
        "id": "f3bqNbzmIl8Q",
        "outputId": "573b0ccb-8451-400b-cd5f-89f2c7f5b423"
      },
      "source": [
        "(X_train,y_train),(X_test,y_test) = mnist.load_data()\n",
        "X_train.shape"
      ],
      "execution_count": 50,
      "outputs": [
        {
          "output_type": "execute_result",
          "data": {
            "text/plain": [
              "(60000, 28, 28)"
            ]
          },
          "metadata": {
            "tags": []
          },
          "execution_count": 50
        }
      ]
    },
    {
      "cell_type": "markdown",
      "metadata": {
        "id": "xsZ3N9T3wqO7"
      },
      "source": [
        "#<strong>Image Dataset 들여다보기</strong>\n",
        "- 불러온 데이터셋에서 이미지 데이터 하나만 뽑아서 시각화 확인\n",
        "\n"
      ]
    },
    {
      "cell_type": "markdown",
      "metadata": {
        "id": "vYVxKVAFww8e"
      },
      "source": [
        "- 데이터 하나만 뽑기\n"
      ]
    },
    {
      "cell_type": "code",
      "metadata": {
        "id": "An5GzZ_EwzA2",
        "colab": {
          "base_uri": "https://localhost:8080/"
        },
        "outputId": "0df15c33-f1f5-4992-acbd-e0fd2475866a"
      },
      "source": [
        "image = X_train[0]\n",
        "image.shape"
      ],
      "execution_count": 51,
      "outputs": [
        {
          "output_type": "execute_result",
          "data": {
            "text/plain": [
              "(28, 28)"
            ]
          },
          "metadata": {
            "tags": []
          },
          "execution_count": 51
        }
      ]
    },
    {
      "cell_type": "markdown",
      "metadata": {
        "id": "AyKQmeOvwzWt"
      },
      "source": [
        "- 시각화해서 확인\n"
      ]
    },
    {
      "cell_type": "code",
      "metadata": {
        "id": "zmQ7WYXjw1Di",
        "colab": {
          "base_uri": "https://localhost:8080/",
          "height": 265
        },
        "outputId": "d639d87a-718d-44bd-efb9-e4b16556e2a0"
      },
      "source": [
        "plt.imshow(image,'gray')\n",
        "plt.show()"
      ],
      "execution_count": 21,
      "outputs": [
        {
          "output_type": "display_data",
          "data": {
            "image/png": "[encoded data removed]",
            "text/plain": [
              "<Figure size 432x288 with 1 Axes>"
            ]
          },
          "metadata": {
            "tags": [],
            "needs_background": "light"
          }
        }
      ]
    },
    {
      "cell_type": "markdown",
      "metadata": {
        "id": "O5QVF2OqJKTg"
      },
      "source": [
        "##<strong>Channel 관련</strong>\n",
        "- [Batch Size, Height, Chaneel]\n",
        "- GraySacle이라면 1, RGB이면 3으로 만들어줘야함\n"
      ]
    },
    {
      "cell_type": "markdown",
      "metadata": {
        "id": "xpffDtV0JYEm"
      },
      "source": [
        "- 다시 shape로 데이터 확인\n"
      ]
    },
    {
      "cell_type": "code",
      "metadata": {
        "colab": {
          "base_uri": "https://localhost:8080/"
        },
        "id": "vXTerQh7Jalk",
        "outputId": "cf0b9de3-83cc-4e87-b855-354a9befcb1a"
      },
      "source": [
        "X_train.shape"
      ],
      "execution_count": 22,
      "outputs": [
        {
          "output_type": "execute_result",
          "data": {
            "text/plain": [
              "(60000, 28, 28)"
            ]
          },
          "metadata": {
            "tags": []
          },
          "execution_count": 22
        }
      ]
    },
    {
      "cell_type": "markdown",
      "metadata": {
        "id": "7T-0VjtOJbBM"
      },
      "source": [
        "- 데이터 차원수 늘리기(numpy)"
      ]
    },
    {
      "cell_type": "code",
      "metadata": {
        "colab": {
          "base_uri": "https://localhost:8080/"
        },
        "id": "wHC_dqbAJdRe",
        "outputId": "32093304-d2e3-489f-8e31-a46cb916f6a5"
      },
      "source": [
        "X_train = np.expand_dims(X_train,-1) # -1이면 마지막에 GraySclae로 만들어줌\n",
        "X_train.shape"
      ],
      "execution_count": 14,
      "outputs": [
        {
          "output_type": "execute_result",
          "data": {
            "text/plain": [
              "(60000, 28, 28, 1)"
            ]
          },
          "metadata": {
            "tags": []
          },
          "execution_count": 14
        }
      ]
    },
    {
      "cell_type": "markdown",
      "metadata": {
        "id": "6b0LTHyzJyYz"
      },
      "source": [
        "- TensorFlow로 데이터 차원 수 늘리기(tensorflow)"
      ]
    },
    {
      "cell_type": "code",
      "metadata": {
        "colab": {
          "base_uri": "https://localhost:8080/"
        },
        "id": "sCSuPy5WKFoG",
        "outputId": "a0cbce8c-45bc-4195-d5ce-95eb3623d93b"
      },
      "source": [
        "new_X_train = tf.expand_dims(X_train,-1)\n",
        "new_X_train.shape"
      ],
      "execution_count": 23,
      "outputs": [
        {
          "output_type": "execute_result",
          "data": {
            "text/plain": [
              "TensorShape([60000, 28, 28, 1])"
            ]
          },
          "metadata": {
            "tags": []
          },
          "execution_count": 23
        }
      ]
    },
    {
      "cell_type": "markdown",
      "metadata": {
        "id": "tHm44YxgKLYP"
      },
      "source": [
        "- TensorFlow 공식홈페이지에서 가져온 방법 tf.newaxis\n"
      ]
    },
    {
      "cell_type": "code",
      "metadata": {
        "colab": {
          "base_uri": "https://localhost:8080/"
        },
        "id": "eKIn3Y9_Kd_D",
        "outputId": "95323ed5-74ad-4d31-c785-03a9ea71d4b8"
      },
      "source": [
        "reshape = X_train.reshape([60000,28,28,1])\n",
        "reshape.shape"
      ],
      "execution_count": 24,
      "outputs": [
        {
          "output_type": "execute_result",
          "data": {
            "text/plain": [
              "(60000, 28, 28, 1)"
            ]
          },
          "metadata": {
            "tags": []
          },
          "execution_count": 24
        }
      ]
    },
    {
      "cell_type": "markdown",
      "metadata": {
        "id": "oHsdHXqIKrVi"
      },
      "source": [
        "- 주의사항\n",
        "  - matplotlib로 이미지 시각화 할 때는 gray scale의 이미지는 3번째 dimension이 없으므로, 2개의 dimension으로 grayscale로 차원조절해서 넣어줘야 함\n",
        "  "
      ]
    },
    {
      "cell_type": "code",
      "metadata": {
        "id": "w80g2KCyNqc6"
      },
      "source": [
        "X_train = X_train[...,tf.newaxis]"
      ],
      "execution_count": 25,
      "outputs": []
    },
    {
      "cell_type": "code",
      "metadata": {
        "colab": {
          "base_uri": "https://localhost:8080/"
        },
        "id": "MCOOQKv8Ny7_",
        "outputId": "68613881-923f-4630-a36b-a930d3019876"
      },
      "source": [
        "X_train.shape\n"
      ],
      "execution_count": 26,
      "outputs": [
        {
          "output_type": "execute_result",
          "data": {
            "text/plain": [
              "(60000, 28, 28, 1)"
            ]
          },
          "metadata": {
            "tags": []
          },
          "execution_count": 26
        }
      ]
    },
    {
      "cell_type": "markdown",
      "metadata": {
        "id": "jF-Q5S63N0cG"
      },
      "source": [
        "- 다시 시각화\n"
      ]
    },
    {
      "cell_type": "code",
      "metadata": {
        "colab": {
          "base_uri": "https://localhost:8080/"
        },
        "id": "ss-ARccuN2sY",
        "outputId": "0384dc13-5e90-465f-c893-3694d9a1192a"
      },
      "source": [
        "np.squeeze(X_train[0]).shape"
      ],
      "execution_count": 29,
      "outputs": [
        {
          "output_type": "execute_result",
          "data": {
            "text/plain": [
              "(28, 28)"
            ]
          },
          "metadata": {
            "tags": []
          },
          "execution_count": 29
        }
      ]
    },
    {
      "cell_type": "code",
      "metadata": {
        "colab": {
          "base_uri": "https://localhost:8080/",
          "height": 265
        },
        "id": "jf18FW1lOQ8U",
        "outputId": "bbedf869-f80f-4322-fb6e-b845eb8e171d"
      },
      "source": [
        "display = np.squeeze(X_train[0])\n",
        "plt.imshow(display,'gray')\n",
        "plt.show()"
      ],
      "execution_count": 32,
      "outputs": [
        {
          "output_type": "display_data",
          "data": {
            "image/png": "[encoded data removed]",
            "text/plain": [
              "<Figure size 432x288 with 1 Axes>"
            ]
          },
          "metadata": {
            "tags": [],
            "needs_background": "light"
          }
        }
      ]
    },
    {
      "cell_type": "markdown",
      "metadata": {
        "id": "-NfJxB_YN_UT"
      },
      "source": [
        "#<strong>Label Dataset 들여다보기</strong>\n",
        " - Label하나만 뽑아서, Image와 비교하여 제대로 들어갔는지, 어떤식으로 저장되어있는지 확인\n",
        " "
      ]
    },
    {
      "cell_type": "markdown",
      "metadata": {
        "id": "rowkIphkOxIc"
      },
      "source": [
        "- Label하나만 뽑아보기\n"
      ]
    },
    {
      "cell_type": "code",
      "metadata": {
        "colab": {
          "base_uri": "https://localhost:8080/"
        },
        "id": "xs3KalriOy3l",
        "outputId": "12800d80-8ba7-48e6-e059-46abbcd1e234"
      },
      "source": [
        "y_train.shape"
      ],
      "execution_count": 33,
      "outputs": [
        {
          "output_type": "execute_result",
          "data": {
            "text/plain": [
              "(60000,)"
            ]
          },
          "metadata": {
            "tags": []
          },
          "execution_count": 33
        }
      ]
    },
    {
      "cell_type": "code",
      "metadata": {
        "colab": {
          "base_uri": "https://localhost:8080/"
        },
        "id": "DPpQlLB9O05G",
        "outputId": "572e18dd-64b8-455d-defd-57f30319df29"
      },
      "source": [
        "y_train[0]"
      ],
      "execution_count": 35,
      "outputs": [
        {
          "output_type": "execute_result",
          "data": {
            "text/plain": [
              "5"
            ]
          },
          "metadata": {
            "tags": []
          },
          "execution_count": 35
        }
      ]
    },
    {
      "cell_type": "code",
      "metadata": {
        "colab": {
          "base_uri": "https://localhost:8080/",
          "height": 265
        },
        "id": "bYGhv4WOO5pO",
        "outputId": "c7a640ad-9235-42ee-c0e8-f94983ae8b15"
      },
      "source": [
        "plt.imshow(np.squeeze(X_train[0]),'gray')\n",
        "plt.show()"
      ],
      "execution_count": 39,
      "outputs": [
        {
          "output_type": "display_data",
          "data": {
            "image/png": "[encoded data removed]",
            "text/plain": [
              "<Figure size 432x288 with 1 Axes>"
            ]
          },
          "metadata": {
            "tags": [],
            "needs_background": "light"
          }
        }
      ]
    },
    {
      "cell_type": "code",
      "metadata": {
        "colab": {
          "base_uri": "https://localhost:8080/"
        },
        "id": "gVyXewQ7O3ha",
        "outputId": "216ee821-fc03-4d20-f10a-60ffc5e3f5a2"
      },
      "source": [
        "y_train[0]"
      ],
      "execution_count": 40,
      "outputs": [
        {
          "output_type": "execute_result",
          "data": {
            "text/plain": [
              "5"
            ]
          },
          "metadata": {
            "tags": []
          },
          "execution_count": 40
        }
      ]
    },
    {
      "cell_type": "markdown",
      "metadata": {
        "id": "VQ7DTaBOPMn2"
      },
      "source": [
        "- Label 시각화\n"
      ]
    },
    {
      "cell_type": "code",
      "metadata": {
        "colab": {
          "base_uri": "https://localhost:8080/",
          "height": 281
        },
        "id": "JM7kRWZYPPA6",
        "outputId": "b4b0f2c1-3384-47ce-b595-856d11f15c0d"
      },
      "source": [
        "plt.title(y_train[0])\n",
        "plt.imshow(np.squeeze(X_train[0]),'gray')\n",
        "plt.show()"
      ],
      "execution_count": 42,
      "outputs": [
        {
          "output_type": "display_data",
          "data": {
            "image/png": "[encoded data removed]",
            "text/plain": [
              "<Figure size 432x288 with 1 Axes>"
            ]
          },
          "metadata": {
            "tags": [],
            "needs_background": "light"
          }
        }
      ]
    },
    {
      "cell_type": "markdown",
      "metadata": {
        "id": "OdsPVFBNPcL2"
      },
      "source": [
        "#<strong>One Hot Encoding</strong>\n",
        "- 컴퓨터가 이해할 수 있는 형태로 변환해서, Label을 주도록 함\n",
        "#<strong>[0,1,0,0,0,0,0,0,0,0]</strong>\n",
        "- tensorflow.keras.utils.to_categorical\n"
      ]
    },
    {
      "cell_type": "code",
      "metadata": {
        "id": "qyyH8Jq_Pxzf"
      },
      "source": [
        "# 5\n",
        "[0,0,0,0,0,1,0,0,0,0]\n",
        "# 9 \n",
        "[0,0,0,0,0,0,0,0,0,1]\n",
        "# classification이다.\n",
        "\n",
        "from tensorflow.keras.utils import to_categorical"
      ],
      "execution_count": 43,
      "outputs": []
    },
    {
      "cell_type": "markdown",
      "metadata": {
        "id": "LDtXbpDLJlgF"
      },
      "source": [
        "- 1을 예시로 one hot encoding\n"
      ]
    },
    {
      "cell_type": "code",
      "metadata": {
        "colab": {
          "base_uri": "https://localhost:8080/"
        },
        "id": "PL5Oq70BQc48",
        "outputId": "0d2da071-9b36-4cc8-cbeb-b9fc70a6ef14"
      },
      "source": [
        "to_categorical(1,5)"
      ],
      "execution_count": 47,
      "outputs": [
        {
          "output_type": "execute_result",
          "data": {
            "text/plain": [
              "array([0., 1., 0., 0., 0.], dtype=float32)"
            ]
          },
          "metadata": {
            "tags": []
          },
          "execution_count": 47
        }
      ]
    },
    {
      "cell_type": "markdown",
      "metadata": {
        "id": "tnmip08zJlid"
      },
      "source": [
        "- label을 확인해서 to_categorical 사용\n"
      ]
    },
    {
      "cell_type": "code",
      "metadata": {
        "colab": {
          "base_uri": "https://localhost:8080/"
        },
        "id": "4l4vqbyrQggD",
        "outputId": "584aca5d-2f02-414d-aca2-4f3a4349df39"
      },
      "source": [
        "label = y_train[0]\n",
        "label"
      ],
      "execution_count": 48,
      "outputs": [
        {
          "output_type": "execute_result",
          "data": {
            "text/plain": [
              "5"
            ]
          },
          "metadata": {
            "tags": []
          },
          "execution_count": 48
        }
      ]
    },
    {
      "cell_type": "code",
      "metadata": {
        "colab": {
          "base_uri": "https://localhost:8080/"
        },
        "id": "TPy1XgZeRznu",
        "outputId": "a775d119-a870-4b19-b5be-897893d50872"
      },
      "source": [
        "label_onehot = to_categorical(label,num_classes=10)\n",
        "label_onehot"
      ],
      "execution_count": 49,
      "outputs": [
        {
          "output_type": "execute_result",
          "data": {
            "text/plain": [
              "array([0., 0., 0., 0., 0., 1., 0., 0., 0., 0.], dtype=float32)"
            ]
          },
          "metadata": {
            "tags": []
          },
          "execution_count": 49
        }
      ]
    },
    {
      "cell_type": "markdown",
      "metadata": {
        "id": "ccXaLPLUQg_9"
      },
      "source": [
        "- onehot encoding으로 바꾼것과 이미지 확인하기\n"
      ]
    },
    {
      "cell_type": "code",
      "metadata": {
        "colab": {
          "base_uri": "https://localhost:8080/",
          "height": 317
        },
        "id": "xFt5kdAiQlzB",
        "outputId": "ffdf46cb-80e2-4e91-a410-726a175d630b"
      },
      "source": [
        "plt.title(label_onehot)\n",
        "plt.imshow(X_train[0],\"gray\")\n",
        "plt.show()"
      ],
      "execution_count": 55,
      "outputs": [
        {
          "output_type": "stream",
          "text": [
            "/usr/local/lib/python3.7/dist-packages/matplotlib/text.py:1165: FutureWarning: elementwise comparison failed; returning scalar instead, but in the future will perform elementwise comparison\n",
            "  if s != self._text:\n"
          ],
          "name": "stderr"
        },
        {
          "output_type": "display_data",
          "data": {
            "image/png": "[encoded data removed]",
            "text/plain": [
              "<Figure size 432x288 with 1 Axes>"
            ]
          },
          "metadata": {
            "tags": [],
            "needs_background": "light"
          }
        }
      ]
    },
    {
      "cell_type": "code",
      "metadata": {
        "id": "3lHXqMBsSHVh"
      },
      "source": [
        ""
      ],
      "execution_count": null,
      "outputs": []
    },
    {
      "cell_type": "code",
      "metadata": {
        "id": "ro6nmibAJl-m"
      },
      "source": [
        ""
      ],
      "execution_count": 11,
      "outputs": []
    },
    {
      "cell_type": "code",
      "metadata": {
        "id": "-kD1N0i_JmAS"
      },
      "source": [
        ""
      ],
      "execution_count": null,
      "outputs": []
    }
  ]
}