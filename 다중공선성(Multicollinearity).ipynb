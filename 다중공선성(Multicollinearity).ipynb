{
  "nbformat": 4,
  "nbformat_minor": 0,
  "metadata": {
    "colab": {
      "name": "다중공선성(Multicollinearity).ipynb",
      "provenance": [],
      "authorship_tag": "ABX9TyPLY9wsG4ndslpTNtWEphXp",
      "include_colab_link": true
    },
    "kernelspec": {
      "name": "python3",
      "display_name": "Python 3"
    },
    "language_info": {
      "name": "python"
    }
  },
  "cells": [
    {
      "cell_type": "markdown",
      "metadata": {
        "id": "view-in-github",
        "colab_type": "text"
      },
      "source": [
        "<a href=\"https://colab.research.google.com/github/hyuntaedo/Machine_learning_Concept/blob/main/%EB%8B%A4%EC%A4%91%EA%B3%B5%EC%84%A0%EC%84%B1(Multicollinearity).ipynb\" target=\"_parent\"><img src=\"https://colab.research.google.com/assets/colab-badge.svg\" alt=\"Open In Colab\"/></a>"
      ]
    },
    {
      "cell_type": "markdown",
      "metadata": {
        "id": "7151lUzzLf9P"
      },
      "source": [
        "#<strong>다중공선성(Multicollinearity)</strong>\n",
        "- 다중공선성 상태는 데이터 분석시 문제를 야기하는 하나의 특성으로 알려져 있다.\n",
        "- 특히 회귀분석에서 다중공선성의 입력 데이터 분석은 부정적인 영향을 미치는것으로 알려져 있고, 방법에 대해서도 오래전부터 연구가 있어왔다.\n",
        "\n"
      ]
    },
    {
      "cell_type": "markdown",
      "metadata": {
        "id": "Y4hVw-9aLyRk"
      },
      "source": [
        "##<strong>1. 정의</strong>\n",
        "- 다중공선성이란 입력변수간의 상관정도가 높은 것을 말한다.\n",
        "- 데이터가 (p+1)개의 수치형(양적) 변수를 가지며, x1,x2,x3...,xp의 p개의 (독립)변수와 Y라는 1개의 종속변수로 구성되어있다고 하자\n",
        "- 다중공선성이란 위의 데이터에서 p개의 입력변수들사이에 상관관계가 존재하는 상태를 말한다.\n"
      ]
    },
    {
      "cell_type": "markdown",
      "metadata": {
        "id": "u4RNooXyOmFR"
      },
      "source": [
        "###<strong>의문1</strong>\n",
        "- 다중공선성(Multicollinearity)과 상관성(Correlcation)이 같은것이 아닌가?\n"
      ]
    },
    {
      "cell_type": "markdown",
      "metadata": {
        "id": "Me53eFrNOvtm"
      },
      "source": [
        "- 상관성(피어슨상관계수에 의해서 계산되는) :\n",
        "\n",
        "1. 두 변수간의 상관정도를 계산\n",
        "\n",
        "2. 독립변수와 종속변수를 구분하지 않는다.\n",
        "\n",
        "- 다중공선성:\n",
        "\n",
        "1. 두개 이상의 변수들간의 상관정도를 계산\n",
        "2. 독립변수들간의 관계만을 고려\n",
        "\n"
      ]
    },
    {
      "cell_type": "markdown",
      "metadata": {
        "id": "yLWPHVXuPOXP"
      },
      "source": [
        "- 측정 방법에도 차이가 있음\n"
      ]
    },
    {
      "cell_type": "markdown",
      "metadata": {
        "id": "5tKv_60lPgWH"
      },
      "source": [
        "![image.png](data:image/png;base64,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)"
      ]
    },
    {
      "cell_type": "markdown",
      "metadata": {
        "id": "kMmSqLOkPjal"
      },
      "source": [
        "##<strong>2. 문제점</strong>\n",
        "- 분석하고 하는 데이터에 다중공선성이 존재한다면\n",
        "\n",
        "- <strong><회귀분석></strong>\n",
        "- <strong><결정트리></strong>\n",
        "\n",
        "- 회귀분석에 적용하자면, 회귀계수가 불안해진다.\n",
        "  - 회귀계수가 해당 변수의 종속변수에 미치는 영향력을 올바르게 설명하지 못하게 된다. 즉 다중공산성을 고려하지않고, 회귀분석을 수행하게된다면, 수행한 후에 결과가 이상하게 나오게 된다.\n",
        "\n",
        "- 결정트리에 적용하자면, 변수가 결정트리의 분리조건에 나타나지 않게 되는 문제가 발생한다.\n",
        "  - 중요변수가 사용되지 않음으로인해 분류율이 낮아지는 문제가 발생한다.\n"
      ]
    },
    {
      "cell_type": "markdown",
      "metadata": {
        "id": "CpjydYGlWF7f"
      },
      "source": [
        "##<strong>3. 해결방법</strong>\n",
        "- 다중공산성에 영향을 주는 변수들을 제거한다\n",
        "  - 다중공선성에 영향을 주는 변수들 중 종속변수와 상관관계가 낮은 변수들을 제거한다.\n",
        "  - 제거를 해씅ㄹ때 결정계수가 유지되는 변수를 제거한다.\n",
        "- 주성분 분석이용(변수 추출법)\n",
        "  - 서로 독립인 변수들을 생성(주의, 범주형 데이터 사용 불가)\n",
        "- 다른 모형선택\n",
        "  - Ridge Regression"
      ]
    }
  ]
}