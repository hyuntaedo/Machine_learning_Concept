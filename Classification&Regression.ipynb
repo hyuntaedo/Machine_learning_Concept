{
  "nbformat": 4,
  "nbformat_minor": 0,
  "metadata": {
    "colab": {
      "name": "Classification&Regression.ipynb",
      "provenance": [],
      "authorship_tag": "ABX9TyMbeMffHU59504HAmWnSZ50",
      "include_colab_link": true
    },
    "kernelspec": {
      "name": "python3",
      "display_name": "Python 3"
    },
    "language_info": {
      "name": "python"
    }
  },
  "cells": [
    {
      "cell_type": "markdown",
      "metadata": {
        "id": "view-in-github",
        "colab_type": "text"
      },
      "source": [
        "<a href=\"https://colab.research.google.com/github/hyuntaedo/Machine_learning_Concept/blob/main/Classification%26Regression.ipynb\" target=\"_parent\"><img src=\"https://colab.research.google.com/assets/colab-badge.svg\" alt=\"Open In Colab\"/></a>"
      ]
    },
    {
      "cell_type": "markdown",
      "metadata": {
        "id": "yh5Gr9TepIXg"
      },
      "source": [
        "#<strong>분류(Classification)와 회귀(Regression)</strong>\n",
        "\n"
      ]
    },
    {
      "cell_type": "markdown",
      "metadata": {
        "id": "ZiX76fk-p7wT"
      },
      "source": [
        "##<strong>분류(Classification)</strong>\n",
        "\n",
        "- 분류는 class를 예측하는 것이다.\n"
      ]
    },
    {
      "cell_type": "markdown",
      "metadata": {
        "id": "E86bAiBFrCoW"
      },
      "source": [
        "###<strong>이진분류(Binary Classification)</strong>\n",
        "- 분류는 Class를 예측하는 것이다.\n",
        " - 누군가 나에게 보낸 메세지가 욕설이나 아니냐와 같이 대답이 <strong>예/아니요로 구분될 수 있는 문제</strong>들을 주로 포함한다.\n",
        " - 두가지 class는 positive class, negative class로 구분 할 수 있으며, 주로 학습하고자 하는 대상이다.\n"
      ]
    },
    {
      "cell_type": "markdown",
      "metadata": {
        "id": "Lcv30E-srDS4"
      },
      "source": [
        "###<strong>다중 분류(Multi-Class Classification)</strong>\n",
        "\n",
        "- 예측해야 할 언어가 여러가지인 경우이다. \n",
        "- 언어 분류 모델의 경우, 입력 text가 영어/프랑스어/독일어/이탈리아어/스페인어/한국어 등등이 어느나라 언어인지 분류한다.\n"
      ]
    },
    {
      "cell_type": "markdown",
      "metadata": {
        "id": "Xlb12riwreBp"
      },
      "source": [
        "##<strong>회귀(Regression)</strong>\n",
        "- 회귀는 보통 연속적인 숫자, 예측값이 float형태인 문제들을 해결하는데 사용된다\n",
        "- 예를들어 지하철역과의 거리, 일정거리안의 관공서, 마트, 학군의 수 등등 여러 feature들로 어떤 지역의 땅값을 예측하는 문제와 같은 것 들이다.\n",
        "- 땅값은 평당 1천만원, 2천만원 3천만원 등 특정 수로 결정이 되어 분류 같지만 실제로는 특정 범위의 무한한 실수중 가운데 대표되는 값을 선정한 것이다.\n",
        "- 즉 실제 1원단위의 또는 소수점 단위의 금액이든 대표되는 값 역시 class가 아니라, <strong>출력에 연속성이 있다.</strong> 그래서 이 연속성중에 어디에 점을 찍을 수 있는가를 예측하는것이 회귀문제이다.\n"
      ]
    },
    {
      "cell_type": "markdown",
      "metadata": {
        "id": "PpVwd2f-scKW"
      },
      "source": [
        "##<strong>분류(Classification)와 회귀(Regression) 구분</strong>\n",
        "- 다시 위의 Text가 욕설인지 아닌지 예측하는 문제를 다시 살펴서 예를 들어보겠다.\n",
        "\n",
        " - \"분류\"를 이용하여 문제를 해결하고자 하는 경우, 입력에대해 욕설 class일 확률과, 욕설이 아닐 class일 확률을 예측하여 확률이 더 높은 class로 에측을 하는것이 정상이다.\n",
        " - 이렇게 학습하여 각각의 class에 대한 확률을 계산하려면 욕설 데이터를 수집하고, 욕설이 아닌 데이터를 수집하여 모델링하고, 각각의 class에 대한 확률을 예측하는 것이 일반적이다.\n",
        " "
      ]
    },
    {
      "cell_type": "markdown",
      "metadata": {
        "id": "gKhnV4o3t4SM"
      },
      "source": [
        "- 분류가 이러한 지도학습 범주에 있는것은 학습데이터가 분류라는 class에 이미 맞도록 labeling이 되어있기 때문이다."
      ]
    },
    {
      "cell_type": "markdown",
      "metadata": {
        "id": "gOQtCJ2Et9Pn"
      },
      "source": [
        "- 하지만 문제를 회귀가아닌 회귀로 풀려고 접근하는 경우가 종종 있다.\n",
        "  - 예를들어 욕설에대한 데이터만을 수집하고난뒤 욕설의 확률을 계산하는 문제로 접근하는 경우가 있다.\n",
        "  - 이는 하지만 분류나 회귀의 문제가 아니다\n",
        "  - <strong>이것은 학습데이터에서 관측된 feature들이 입력 text에서 발견되면 score를 높여가는 scoring방법이다.</storng>"
      ]
    },
    {
      "cell_type": "markdown",
      "metadata": {
        "id": "FFSgG2eOveyq"
      },
      "source": [
        "- 즉 하고싶은말은 회귀는 확률을 예측하는 것이 아니다 회귀는 출력에 연속성이 있고, 그 연속성중 어디에 점을 찍을 지 결정하는 문제이다. \n"
      ]
    }
  ]
}